{
  "cells": [
    {
      "cell_type": "code",
      "execution_count": null,
      "metadata": {
        "id": "uMI3zwfwQM-g"
      },
      "outputs": [],
      "source": [
        "!pip install deeplabcut[tf]\n",
        "import deeplabcut"
      ]
    },
    {
      "cell_type": "code",
      "execution_count": null,
      "metadata": {
        "id": "JlZ3UN26QDht"
      },
      "outputs": [],
      "source": [
        "# Install compatible tensorflow\n",
        "!pip install --upgrade \"tensorflow<=2.10\""
      ]
    },
    {
      "cell_type": "code",
      "execution_count": null,
      "metadata": {
        "id": "MVdfqT1JYSef"
      },
      "outputs": [],
      "source": [
        "# Installs a CUDA version compatible with tensorflow on COLAB\n",
        "!apt update && apt install cuda-11-8"
      ]
    },
    {
      "cell_type": "code",
      "execution_count": null,
      "metadata": {
        "id": "QSTYoTPZPB_w"
      },
      "outputs": [],
      "source": [
        "#from google.colab import drive\n",
        "#drive.mount('/content/drive')"
      ]
    },
    {
      "cell_type": "code",
      "execution_count": null,
      "metadata": {
        "id": "9AI_vlg7Nlpy"
      },
      "outputs": [],
      "source": [
        "video=['/content/drive/MyDrive/Research/Explorations/DeepLabCut/gastric_eversion.MP4'] # Enter the paths of your videos OR FOLDER you want to grab frames from.\n",
        "path_config_file = '/content/drive/MyDrive/DeepLabCut/test-deej-2024-02-05/config.yaml' # Enter the path of the config file that was just created from the abo"
      ]
    },
    {
      "cell_type": "code",
      "execution_count": null,
      "metadata": {
        "id": "Epn9S-HSN5AL"
      },
      "outputs": [],
      "source": [
        "# label training data externally via DLC GUI"
      ]
    },
    {
      "cell_type": "code",
      "execution_count": null,
      "metadata": {
        "colab": {
          "base_uri": "https://localhost:8080/"
        },
        "id": "W9BOYElELoEv",
        "outputId": "6592a8c1-bd43-4dd5-faae-b0dcc2a1cae4"
      },
      "outputs": [
        {
          "output_type": "stream",
          "name": "stdout",
          "text": [
            "Creating images with labels by deej.\n",
            "Attention: /content/drive/MyDrive/DeepLabCut/test-deej-2024-02-05/labeled-data/gastric_eversion_lowRes does not appear to have labeled data!\n",
            "If all the labels are ok, then use the function 'create_training_dataset' to create the training dataset!\n"
          ]
        }
      ],
      "source": [
        "deeplabcut.check_labels(path_config_file)"
      ]
    },
    {
      "cell_type": "code",
      "execution_count": null,
      "metadata": {
        "colab": {
          "base_uri": "https://localhost:8080/"
        },
        "id": "YxTf5RE8N4Pg",
        "outputId": "e058ea32-18b7-4489-8171-50b57529639f"
      },
      "outputs": [
        {
          "output_type": "stream",
          "name": "stdout",
          "text": [
            "Downloading a ImageNet-pretrained model from http://download.tensorflow.org/models/resnet_v1_50_2016_08_28.tar.gz....\n",
            "The training dataset is successfully created. Use the function 'train_network' to start training. Happy training!\n"
          ]
        },
        {
          "output_type": "execute_result",
          "data": {
            "text/plain": [
              "[(0.9,\n",
              "  1,\n",
              "  (array([ 92, 238,  73,  55, 181, 189, 137, 136, 107,  64, 194, 123,  89,\n",
              "          232, 199, 153, 182, 176,  74, 104, 111,  45,  63, 190, 125, 179,\n",
              "          129,   8, 223,  96,  44, 126,   5,  22,  12,  37, 156, 146, 226,\n",
              "          180,  75, 236, 215, 186,  71, 144, 108,  18, 109,  15, 158,   7,\n",
              "          159, 207, 152, 157, 106, 122,  83,  33, 139, 162,  97, 244,  90,\n",
              "          220, 235, 206, 225,  16, 166, 170,  76,   4, 110,  61, 118,  52,\n",
              "           66,  26, 204, 173, 218,  40,  13,   3, 101,  24,  30, 219,  60,\n",
              "           56, 184, 116,  19, 191, 130,  54, 196,  80,  51, 124, 168, 221,\n",
              "           86,  10, 138, 224, 135,  41,  14,  27,  50, 222,  20, 200,  46,\n",
              "          202, 240, 150, 171,  62, 134, 160,   2,  59, 149, 228,  43, 210,\n",
              "          161, 155, 112, 178,  98, 154,  93, 145, 234, 113,   0,  94,  95,\n",
              "           69,  49,  48,  85, 242, 141,  23, 231, 143,  78, 100, 131, 213,\n",
              "          243,   6,  68,  84, 121, 229, 198, 214, 203, 187,  91, 209,  11,\n",
              "          119, 102,  35,  57, 169,  65,   1, 120, 239,  42, 105, 132, 212,\n",
              "           17,  38, 133,  53, 164, 188, 128,  34,  28, 183, 114, 163, 151,\n",
              "           31, 201, 127, 185, 217, 227,  32, 167, 142, 205, 147,  29, 177,\n",
              "           99,  82, 241, 175,  79, 197, 208, 115, 148, 237,  72,  77]),\n",
              "   array([ 25, 165,  81, 230, 174, 233,  39, 193,  58, 140,  88, 216,  70,\n",
              "           87,  36,  21, 211,   9, 103, 195,  67, 192, 117,  47, 172])))]"
            ]
          },
          "metadata": {},
          "execution_count": 32
        }
      ],
      "source": [
        "deeplabcut.create_training_dataset(path_config_file, net_type = 'resnet_50', augmenter_type = 'imgaug')"
      ]
    },
    {
      "cell_type": "code",
      "execution_count": null,
      "metadata": {
        "colab": {
          "base_uri": "https://localhost:8080/"
        },
        "id": "JOQ_6WB7N6a1",
        "outputId": "57860611-8273-482f-c4aa-acf17fc2b5cc"
      },
      "outputs": [
        {
          "metadata": {
            "tags": null
          },
          "name": "stdout",
          "output_type": "stream",
          "text": [
            "Selecting single-animal trainer\n"
          ]
        },
        {
          "metadata": {
            "tags": null
          },
          "name": "stderr",
          "output_type": "stream",
          "text": [
            "Config:\n",
            "{'all_joints': [[0], [1], [2], [3], [4], [5], [6], [7]],\n",
            " 'all_joints_names': ['nose',\n",
            "                      'eyeRight',\n",
            "                      'eyeLeft',\n",
            "                      'dorsalFin',\n",
            "                      'pecRight',\n",
            "                      'pecLeft',\n",
            "                      'caudalKeel',\n",
            "                      'tailTip'],\n",
            " 'alpha_r': 0.02,\n",
            " 'apply_prob': 0.5,\n",
            " 'batch_size': 1,\n",
            " 'contrast': {'clahe': True,\n",
            "              'claheratio': 0.1,\n",
            "              'histeq': True,\n",
            "              'histeqratio': 0.1},\n",
            " 'convolution': {'edge': False,\n",
            "                 'emboss': {'alpha': [0.0, 1.0], 'strength': [0.5, 1.5]},\n",
            "                 'embossratio': 0.1,\n",
            "                 'sharpen': False,\n",
            "                 'sharpenratio': 0.3},\n",
            " 'crop_pad': 0,\n",
            " 'cropratio': 0.4,\n",
            " 'dataset': 'training-datasets/iteration-0/UnaugmentedDataSet_testFeb5/test_deej90shuffle1.mat',\n",
            " 'dataset_type': 'imgaug',\n",
            " 'decay_steps': 30000,\n",
            " 'deterministic': False,\n",
            " 'display_iters': 1000,\n",
            " 'fg_fraction': 0.25,\n",
            " 'global_scale': 0.8,\n",
            " 'init_weights': '/usr/local/lib/python3.10/dist-packages/deeplabcut/pose_estimation_tensorflow/models/pretrained/resnet_v1_50.ckpt',\n",
            " 'intermediate_supervision': False,\n",
            " 'intermediate_supervision_layer': 12,\n",
            " 'location_refinement': True,\n",
            " 'locref_huber_loss': True,\n",
            " 'locref_loss_weight': 0.05,\n",
            " 'locref_stdev': 7.2801,\n",
            " 'log_dir': 'log',\n",
            " 'lr_init': 0.0005,\n",
            " 'max_input_size': 1500,\n",
            " 'mean_pixel': [123.68, 116.779, 103.939],\n",
            " 'metadataset': 'training-datasets/iteration-0/UnaugmentedDataSet_testFeb5/Documentation_data-test_90shuffle1.pickle',\n",
            " 'min_input_size': 64,\n",
            " 'mirror': False,\n",
            " 'multi_stage': False,\n",
            " 'multi_step': [[0.005, 10000],\n",
            "                [0.02, 430000],\n",
            "                [0.002, 730000],\n",
            "                [0.001, 1030000]],\n",
            " 'net_type': 'resnet_50',\n",
            " 'num_joints': 8,\n",
            " 'optimizer': 'sgd',\n",
            " 'pairwise_huber_loss': False,\n",
            " 'pairwise_predict': False,\n",
            " 'partaffinityfield_predict': False,\n",
            " 'pos_dist_thresh': 17,\n",
            " 'project_path': '/content/drive/MyDrive/DeepLabCut/test-deej-2024-02-05',\n",
            " 'regularize': False,\n",
            " 'rotation': 25,\n",
            " 'rotratio': 0.4,\n",
            " 'save_iters': 50000,\n",
            " 'scale_jitter_lo': 0.5,\n",
            " 'scale_jitter_up': 1.25,\n",
            " 'scoremap_dir': 'test',\n",
            " 'shuffle': True,\n",
            " 'snapshot_prefix': '/content/drive/MyDrive/DeepLabCut/test-deej-2024-02-05/dlc-models/iteration-0/testFeb5-trainset90shuffle1/train/snapshot',\n",
            " 'stride': 8.0,\n",
            " 'weigh_negatives': False,\n",
            " 'weigh_only_present_joints': False,\n",
            " 'weigh_part_predictions': False,\n",
            " 'weight_decay': 0.0001}\n",
            "/usr/local/lib/python3.10/dist-packages/tensorflow/python/keras/engine/base_layer_v1.py:1694: UserWarning: `layer.apply` is deprecated and will be removed in a future version. Please use `layer.__call__` method instead.\n",
            "  warnings.warn('`layer.apply` is deprecated and '\n"
          ]
        },
        {
          "metadata": {
            "tags": null
          },
          "name": "stdout",
          "output_type": "stream",
          "text": [
            "Batch Size is 1\n",
            "Loading ImageNet-pretrained resnet_50\n",
            "Max_iters overwritten as 2000\n",
            "Display_iters overwritten as 20\n",
            "Save_iters overwritten as 100\n",
            "Training parameter:\n",
            "{'stride': 8.0, 'weigh_part_predictions': False, 'weigh_negatives': False, 'fg_fraction': 0.25, 'mean_pixel': [123.68, 116.779, 103.939], 'shuffle': True, 'snapshot_prefix': '/content/drive/MyDrive/DeepLabCut/test-deej-2024-02-05/dlc-models/iteration-0/testFeb5-trainset90shuffle1/train/snapshot', 'log_dir': 'log', 'global_scale': 0.8, 'location_refinement': True, 'locref_stdev': 7.2801, 'locref_loss_weight': 0.05, 'locref_huber_loss': True, 'optimizer': 'sgd', 'intermediate_supervision': False, 'intermediate_supervision_layer': 12, 'regularize': False, 'weight_decay': 0.0001, 'crop_pad': 0, 'scoremap_dir': 'test', 'batch_size': 1, 'dataset_type': 'imgaug', 'deterministic': False, 'mirror': False, 'pairwise_huber_loss': False, 'weigh_only_present_joints': False, 'partaffinityfield_predict': False, 'pairwise_predict': False, 'all_joints': [[0], [1], [2], [3], [4], [5], [6], [7]], 'all_joints_names': ['nose', 'eyeRight', 'eyeLeft', 'dorsalFin', 'pecRight', 'pecLeft', 'caudalKeel', 'tailTip'], 'alpha_r': 0.02, 'apply_prob': 0.5, 'contrast': {'clahe': True, 'claheratio': 0.1, 'histeq': True, 'histeqratio': 0.1, 'gamma': False, 'sigmoid': False, 'log': False, 'linear': False}, 'convolution': {'edge': False, 'emboss': {'alpha': [0.0, 1.0], 'strength': [0.5, 1.5]}, 'embossratio': 0.1, 'sharpen': False, 'sharpenratio': 0.3}, 'cropratio': 0.4, 'dataset': 'training-datasets/iteration-0/UnaugmentedDataSet_testFeb5/test_deej90shuffle1.mat', 'decay_steps': 30000, 'display_iters': 1000, 'init_weights': '/usr/local/lib/python3.10/dist-packages/deeplabcut/pose_estimation_tensorflow/models/pretrained/resnet_v1_50.ckpt', 'lr_init': 0.0005, 'max_input_size': 1500, 'metadataset': 'training-datasets/iteration-0/UnaugmentedDataSet_testFeb5/Documentation_data-test_90shuffle1.pickle', 'min_input_size': 64, 'multi_stage': False, 'multi_step': [[0.005, 10000], [0.02, 430000], [0.002, 730000], [0.001, 1030000]], 'net_type': 'resnet_50', 'num_joints': 8, 'pos_dist_thresh': 17, 'project_path': '/content/drive/MyDrive/DeepLabCut/test-deej-2024-02-05', 'rotation': 25, 'rotratio': 0.4, 'save_iters': 50000, 'scale_jitter_lo': 0.5, 'scale_jitter_up': 1.25, 'covering': True, 'elastic_transform': True, 'motion_blur': True, 'motion_blur_params': {'k': 7, 'angle': (-90, 90)}}\n",
            "Starting training....\n"
          ]
        },
        {
          "output_type": "stream",
          "name": "stderr",
          "text": [
            "iteration: 20 loss: 0.2264 lr: 0.005\n",
            "iteration: 40 loss: 0.0295 lr: 0.005\n",
            "iteration: 60 loss: 0.0264 lr: 0.005\n",
            "iteration: 80 loss: 0.0224 lr: 0.005\n",
            "iteration: 100 loss: 0.0242 lr: 0.005\n",
            "iteration: 120 loss: 0.0237 lr: 0.005\n",
            "iteration: 140 loss: 0.0247 lr: 0.005\n",
            "iteration: 160 loss: 0.0213 lr: 0.005\n",
            "iteration: 180 loss: 0.0238 lr: 0.005\n",
            "iteration: 200 loss: 0.0233 lr: 0.005\n",
            "iteration: 220 loss: 0.0239 lr: 0.005\n",
            "iteration: 240 loss: 0.0227 lr: 0.005\n",
            "iteration: 260 loss: 0.0206 lr: 0.005\n",
            "iteration: 280 loss: 0.0229 lr: 0.005\n",
            "iteration: 300 loss: 0.0219 lr: 0.005\n",
            "iteration: 320 loss: 0.0216 lr: 0.005\n",
            "iteration: 340 loss: 0.0230 lr: 0.005\n",
            "iteration: 360 loss: 0.0228 lr: 0.005\n",
            "iteration: 380 loss: 0.0206 lr: 0.005\n",
            "iteration: 400 loss: 0.0228 lr: 0.005\n",
            "iteration: 420 loss: 0.0196 lr: 0.005\n",
            "iteration: 440 loss: 0.0200 lr: 0.005\n",
            "iteration: 460 loss: 0.0205 lr: 0.005\n",
            "iteration: 480 loss: 0.0211 lr: 0.005\n",
            "iteration: 500 loss: 0.0226 lr: 0.005\n",
            "iteration: 520 loss: 0.0199 lr: 0.005\n",
            "iteration: 540 loss: 0.0174 lr: 0.005\n",
            "iteration: 560 loss: 0.0196 lr: 0.005\n",
            "iteration: 580 loss: 0.0162 lr: 0.005\n",
            "iteration: 600 loss: 0.0211 lr: 0.005\n",
            "iteration: 620 loss: 0.0176 lr: 0.005\n",
            "iteration: 640 loss: 0.0187 lr: 0.005\n",
            "iteration: 660 loss: 0.0177 lr: 0.005\n",
            "iteration: 680 loss: 0.0158 lr: 0.005\n",
            "iteration: 700 loss: 0.0185 lr: 0.005\n",
            "iteration: 720 loss: 0.0155 lr: 0.005\n",
            "iteration: 740 loss: 0.0138 lr: 0.005\n",
            "iteration: 760 loss: 0.0196 lr: 0.005\n",
            "iteration: 780 loss: 0.0178 lr: 0.005\n",
            "iteration: 800 loss: 0.0168 lr: 0.005\n",
            "iteration: 820 loss: 0.0174 lr: 0.005\n",
            "iteration: 840 loss: 0.0179 lr: 0.005\n",
            "iteration: 860 loss: 0.0173 lr: 0.005\n",
            "iteration: 880 loss: 0.0169 lr: 0.005\n",
            "iteration: 900 loss: 0.0161 lr: 0.005\n",
            "iteration: 920 loss: 0.0164 lr: 0.005\n",
            "iteration: 940 loss: 0.0169 lr: 0.005\n",
            "iteration: 960 loss: 0.0166 lr: 0.005\n",
            "iteration: 980 loss: 0.0168 lr: 0.005\n",
            "iteration: 1000 loss: 0.0181 lr: 0.005\n",
            "iteration: 1020 loss: 0.0161 lr: 0.005\n",
            "iteration: 1040 loss: 0.0145 lr: 0.005\n",
            "iteration: 1060 loss: 0.0159 lr: 0.005\n",
            "iteration: 1080 loss: 0.0159 lr: 0.005\n",
            "iteration: 1100 loss: 0.0164 lr: 0.005\n",
            "iteration: 1120 loss: 0.0148 lr: 0.005\n",
            "iteration: 1140 loss: 0.0160 lr: 0.005\n",
            "iteration: 1160 loss: 0.0178 lr: 0.005\n",
            "iteration: 1180 loss: 0.0148 lr: 0.005\n",
            "iteration: 1200 loss: 0.0134 lr: 0.005\n",
            "iteration: 1220 loss: 0.0127 lr: 0.005\n",
            "iteration: 1240 loss: 0.0159 lr: 0.005\n",
            "iteration: 1260 loss: 0.0143 lr: 0.005\n",
            "iteration: 1280 loss: 0.0155 lr: 0.005\n",
            "iteration: 1300 loss: 0.0135 lr: 0.005\n",
            "iteration: 1320 loss: 0.0127 lr: 0.005\n",
            "iteration: 1340 loss: 0.0146 lr: 0.005\n",
            "iteration: 1360 loss: 0.0135 lr: 0.005\n",
            "iteration: 1380 loss: 0.0154 lr: 0.005\n",
            "iteration: 1400 loss: 0.0138 lr: 0.005\n",
            "iteration: 1420 loss: 0.0153 lr: 0.005\n",
            "iteration: 1440 loss: 0.0138 lr: 0.005\n",
            "iteration: 1460 loss: 0.0132 lr: 0.005\n",
            "iteration: 1480 loss: 0.0144 lr: 0.005\n",
            "iteration: 1500 loss: 0.0139 lr: 0.005\n",
            "iteration: 1520 loss: 0.0125 lr: 0.005\n",
            "iteration: 1540 loss: 0.0136 lr: 0.005\n",
            "iteration: 1560 loss: 0.0128 lr: 0.005\n"
          ]
        }
      ],
      "source": [
        "#deeplabcut.train_network(path_config_file, shuffle=1, trainingsetindex=0, gputouse=None, max_snapshots_to_keep=1, autotune=False, displayiters=2, saveiters=1, maxiters=2, allow_growth=True)\n",
        "deeplabcut.train_network(path_config_file, shuffle=1, max_snapshots_to_keep=2, displayiters=20, saveiters=100, maxiters=2000)"
      ]
    },
    {
      "cell_type": "code",
      "execution_count": null,
      "metadata": {
        "id": "fMxTRK8CPrkq",
        "colab": {
          "base_uri": "https://localhost:8080/"
        },
        "outputId": "80398d8c-ee99-487b-e4a7-173709d4aac6"
      },
      "outputs": [
        {
          "output_type": "stream",
          "name": "stdout",
          "text": [
            "Running  DLC_resnet50_testFeb5shuffle1_3000  with # of training iterations: 3000\n"
          ]
        },
        {
          "output_type": "stream",
          "name": "stderr",
          "text": [
            "/usr/local/lib/python3.10/dist-packages/tensorflow/python/keras/engine/base_layer_v1.py:1694: UserWarning: `layer.apply` is deprecated and will be removed in a future version. Please use `layer.__call__` method instead.\n",
            "  warnings.warn('`layer.apply` is deprecated and '\n"
          ]
        },
        {
          "output_type": "stream",
          "name": "stdout",
          "text": [
            "Running evaluation ...\n"
          ]
        },
        {
          "output_type": "stream",
          "name": "stderr",
          "text": [
            "245it [21:43,  5.32s/it]\n"
          ]
        },
        {
          "output_type": "stream",
          "name": "stdout",
          "text": [
            "Analysis is done and the results are stored (see evaluation-results) for snapshot:  snapshot-3000\n",
            "Results for 3000  training iterations: 90 1 train error: 57.97 pixels. Test error: 64.81  pixels.\n",
            "With pcutoff of 0.01  train error: 57.97 pixels. Test error: 64.81 pixels\n",
            "Thereby, the errors are given by the average distances between the labels by DLC and the scorer.\n",
            "Plotting...\n"
          ]
        },
        {
          "output_type": "stream",
          "name": "stderr",
          "text": [
            "100%|██████████| 245/245 [03:01<00:00,  1.35it/s]"
          ]
        },
        {
          "output_type": "stream",
          "name": "stdout",
          "text": [
            "The network is evaluated and the results are stored in the subdirectory 'evaluation_results'.\n",
            "Please check the results, then choose the best model (snapshot) for prediction. You can update the config.yaml file with the appropriate index for the 'snapshotindex'.\n",
            "Use the function 'analyze_video' to make predictions on new videos.\n",
            "Otherwise, consider adding more labeled-data and retraining the network (see DeepLabCut workflow Fig 2, Nath 2019)\n"
          ]
        },
        {
          "output_type": "stream",
          "name": "stderr",
          "text": [
            "\n"
          ]
        },
        {
          "output_type": "display_data",
          "data": {
            "text/plain": [
              "<Figure size 1280x720 with 1 Axes>"
            ],
            "image/png": "[encoded data removed]"
          },
          "metadata": {}
        }
      ],
      "source": [
        "deeplabcut.evaluate_network(path_config_file, plotting=True)"
      ]
    },
    {
      "cell_type": "code",
      "execution_count": null,
      "metadata": {
        "id": "q9AyTb09uil3"
      },
      "outputs": [],
      "source": [
        "videofile_path = '/content/drive/MyDrive/DeepLabCut/test-deej-2024-02-05/videos/gastric_eversion_lowRes.mov'"
      ]
    },
    {
      "cell_type": "code",
      "source": [
        "print(path_config_file)\n",
        "print(videofile_path)"
      ],
      "metadata": {
        "colab": {
          "base_uri": "https://localhost:8080/"
        },
        "id": "sssZ1VoxjWdX",
        "outputId": "6629967b-1073-4f80-b0ea-c07e3768cd61"
      },
      "execution_count": null,
      "outputs": [
        {
          "output_type": "stream",
          "name": "stdout",
          "text": [
            "/content/drive/MyDrive/DeepLabCut/test-deej-2024-02-05/config.yaml\n",
            "/content/drive/MyDrive/DeepLabCut/test-deej-2024-02-05/videos/gastric_eversion_lowRes.mov\n"
          ]
        }
      ]
    },
    {
      "cell_type": "code",
      "execution_count": null,
      "metadata": {
        "colab": {
          "base_uri": "https://localhost:8080/",
          "height": 278
        },
        "id": "tb4N2R7JPuSo",
        "outputId": "94e9aacc-3c5f-4f89-a726-3c25aa7d49b8"
      },
      "outputs": [
        {
          "metadata": {
            "tags": null
          },
          "name": "stdout",
          "output_type": "stream",
          "text": [
            "Using snapshot-3000 for model /content/drive/MyDrive/DeepLabCut/test-deej-2024-02-05/dlc-models/iteration-0/testFeb5-trainset90shuffle1\n"
          ]
        },
        {
          "metadata": {
            "tags": null
          },
          "name": "stderr",
          "output_type": "stream",
          "text": [
            "/usr/local/lib/python3.10/dist-packages/tensorflow/python/keras/engine/base_layer_v1.py:1694: UserWarning: `layer.apply` is deprecated and will be removed in a future version. Please use `layer.__call__` method instead.\n",
            "  warnings.warn('`layer.apply` is deprecated and '\n"
          ]
        },
        {
          "metadata": {
            "tags": null
          },
          "name": "stdout",
          "output_type": "stream",
          "text": [
            "Starting to analyze %  /content/drive/MyDrive/DeepLabCut/test-deej-2024-02-05/videos/gastric_eversion_lowRes.mov\n",
            "Loading  /content/drive/MyDrive/DeepLabCut/test-deej-2024-02-05/videos/gastric_eversion_lowRes.mov\n",
            "Duration of video [s]:  73.45 , recorded with  23.98 fps!\n",
            "Overall # of frames:  1761  found with (before cropping) frame dimensions:  1280 720\n",
            "Starting to extract posture\n"
          ]
        },
        {
          "output_type": "stream",
          "name": "stderr",
          "text": [
            "100%|██████████| 1761/1761 [1:56:53<00:00,  3.98s/it]\n"
          ]
        },
        {
          "output_type": "stream",
          "name": "stdout",
          "text": [
            "Saving results in /content/drive/MyDrive/DeepLabCut/test-deej-2024-02-05/videos...\n",
            "Saving csv poses!\n",
            "The videos are analyzed. Now your research can truly start! \n",
            " You can create labeled videos with 'create_labeled_video'\n",
            "If the tracking is not satisfactory for some videos, consider expanding the training set. You can use the function 'extract_outlier_frames' to extract a few representative outlier frames.\n"
          ]
        },
        {
          "output_type": "execute_result",
          "data": {
            "text/plain": [
              "'DLC_resnet50_testFeb5shuffle1_3000'"
            ],
            "application/vnd.google.colaboratory.intrinsic+json": {
              "type": "string"
            }
          },
          "metadata": {},
          "execution_count": 15
        }
      ],
      "source": [
        "deeplabcut.analyze_videos(path_config_file, videofile_path, videotype = '.mov', save_as_csv = True)"
      ]
    },
    {
      "cell_type": "code",
      "execution_count": null,
      "metadata": {
        "colab": {
          "base_uri": "https://localhost:8080/"
        },
        "id": "85WqrD-etkq3",
        "outputId": "d05baa10-2b37-440c-8dc9-467e14bd07fe"
      },
      "outputs": [
        {
          "output_type": "stream",
          "name": "stdout",
          "text": [
            "Starting to process video: /content/drive/MyDrive/DeepLabCut/test-deej-2024-02-05/videos/gastric_eversion_lowRes.mov\n",
            "Loading /content/drive/MyDrive/DeepLabCut/test-deej-2024-02-05/videos/gastric_eversion_lowRes.mov and data.\n",
            "Duration of video [s]: 73.45, recorded with 23.98 fps!\n",
            "Overall # of frames: 1761 with cropped frame dimensions: 1280 720\n",
            "Generating frames and creating video.\n"
          ]
        },
        {
          "output_type": "stream",
          "name": "stderr",
          "text": [
            "100%|██████████| 1761/1761 [00:30<00:00, 57.82it/s]\n"
          ]
        },
        {
          "output_type": "execute_result",
          "data": {
            "text/plain": [
              "[True]"
            ]
          },
          "metadata": {},
          "execution_count": 16
        }
      ],
      "source": [
        "# create labeled video\n",
        "deeplabcut.create_labeled_video(path_config_file,videofile_path, videotype='.mov')"
      ]
    },
    {
      "cell_type": "code",
      "execution_count": null,
      "metadata": {
        "id": "Qxj5TYdpt4pL",
        "colab": {
          "base_uri": "https://localhost:8080/"
        },
        "outputId": "42e6c619-c4f4-42c6-d209-5d8b598baf7a"
      },
      "outputs": [
        {
          "output_type": "stream",
          "name": "stdout",
          "text": [
            "Loading  /content/drive/MyDrive/DeepLabCut/test-deej-2024-02-05/videos/gastric_eversion_lowRes.mov and data.\n",
            "Plots created! Please check the directory \"plot-poses\" within the video directory\n"
          ]
        }
      ],
      "source": [
        "# plot trajectories\n",
        "deeplabcut.plot_trajectories(path_config_file, [videofile_path], videotype='.mov')"
      ]
    }
  ],
  "metadata": {
    "accelerator": "GPU",
    "colab": {
      "provenance": []
    },
    "kernelspec": {
      "display_name": "Python 3",
      "name": "python3"
    },
    "language_info": {
      "name": "python"
    }
  },
  "nbformat": 4,
  "nbformat_minor": 0
}